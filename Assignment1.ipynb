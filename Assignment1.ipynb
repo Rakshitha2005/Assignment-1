{
  "nbformat": 4,
  "nbformat_minor": 0,
  "metadata": {
    "colab": {
      "name": "Assignment1.ipynb",
      "provenance": [],
      "collapsed_sections": []
    },
    "kernelspec": {
      "name": "python3",
      "display_name": "Python 3"
    },
    "language_info": {
      "name": "python"
    }
  },
  "cells": [
    {
      "cell_type": "code",
      "execution_count": null,
      "metadata": {
        "id": "qhB5BfhZ3WAP"
      },
      "outputs": [],
      "source": [
        "#Change all the characters to uppercase letters\n",
        "#Example: Input -> 'This is the Way' | Output -> 'THIS IS THE WAY'\n",
        "\n",
        "#Write your code below this comment"
      ]
    },
    {
      "cell_type": "code",
      "source": [
        "#Change all the characters to uppercase letters\n",
        "#Example: Input -> 'This is the Way' | Output -> 'this is the way'\n",
        "\n",
        "#Write your code below this comment"
      ],
      "metadata": {
        "id": "0xauaCrB4XKo"
      },
      "execution_count": null,
      "outputs": []
    },
    {
      "cell_type": "code",
      "source": [
        "#Print the first of the sentence 'Python for All'\n",
        "\n",
        "#Write your code below this comment"
      ],
      "metadata": {
        "id": "1dBOUlfB4cMp"
      },
      "execution_count": null,
      "outputs": []
    },
    {
      "cell_type": "code",
      "source": [
        "#Check if 'Python For All' string contains a word 'Python' using the suitable string method\n",
        "\n",
        "#Write your code below this comment"
      ],
      "metadata": {
        "id": "cebgz45z4trN"
      },
      "execution_count": null,
      "outputs": []
    },
    {
      "cell_type": "code",
      "source": [
        "#Change the sentence 'Coding is fun' to 'Python is fun'\n",
        "\n",
        "#Write your code below this comment"
      ],
      "metadata": {
        "id": "UwCMRFit46-X"
      },
      "execution_count": null,
      "outputs": []
    },
    {
      "cell_type": "code",
      "source": [
        "#What is the last index of the string 'Python For All'\n",
        "\n",
        "#Write your code below this comment"
      ],
      "metadata": {
        "id": "Wf0htsan6PUj"
      },
      "execution_count": null,
      "outputs": []
    },
    {
      "cell_type": "code",
      "source": [
        "#First and last occurance index value of letter 'o' in the string 'Python for everyone'\n",
        "\n",
        "#Write your code below this comment"
      ],
      "metadata": {
        "id": "tSuQFKGD6rRd"
      },
      "execution_count": null,
      "outputs": []
    },
    {
      "cell_type": "code",
      "source": [
        "#Find first and last occurance of the word 'because' in the sentence 'You cannot end a sentence with because because because is a conjunction'\n",
        "\n",
        "#Write your code below this comment"
      ],
      "metadata": {
        "id": "tY7WAXxs7Pj7"
      },
      "execution_count": null,
      "outputs": []
    },
    {
      "cell_type": "code",
      "source": [
        "#' This is the way '  , remove the left and right trailing spaces in the given string.\n",
        "#Output -> 'This is the way'\n",
        "\n",
        "#Write your code below this comment"
      ],
      "metadata": {
        "id": "1f8t3ksa7hEy"
      },
      "execution_count": null,
      "outputs": []
    },
    {
      "cell_type": "code",
      "source": [
        "#Take required inputs from the user and find the area of a right circular cone\n",
        "#Example Output -> 'The area of a cone with radius 10 and height 20 is 1016 meters square.'\n",
        "\n",
        "#Write your code below this comment"
      ],
      "metadata": {
        "id": "6SUpHFUE705C"
      },
      "execution_count": null,
      "outputs": []
    },
    {
      "cell_type": "code",
      "source": [
        "#Make the following using string formatting methods\n",
        "#Take two numbers as input from user and print all the below mentioned operations \n",
        "#Outputs for 8 and 6 as inputs\n",
        "'''\n",
        "8 + 6 = 14\n",
        "8 - 6 = 2\n",
        "8 * 6 = 48\n",
        "8 / 6 = 1.33\n",
        "8 % 6 = 2\n",
        "8 // 6 = 1\n",
        "8 ** 6 = 262144\n",
        "'''\n",
        "\n",
        "#Write your code below this comment"
      ],
      "metadata": {
        "id": "_duqwDvW85Ak"
      },
      "execution_count": null,
      "outputs": []
    }
  ]
}